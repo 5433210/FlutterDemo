{
 "cells": [
  {
   "cell_type": "markdown",
   "id": "6d9d06bb",
   "metadata": {},
   "source": [
    "# Localization Files Synchronizer\n",
    "\n",
    "This notebook synchronizes variables between `app_localizations_en.dart` and `app_localizations.dart` files in a Flutter project. It identifies missing variables in the main localization file and adds them automatically."
   ]
  },
  {
   "cell_type": "markdown",
   "id": "31e11a07",
   "metadata": {},
   "source": [
    "## Import Required Libraries\n",
    "\n",
    "Import necessary libraries such as os, re, and json for file handling and parsing."
   ]
  },
  {
   "cell_type": "code",
   "execution_count": null,
   "id": "80bc4af7",
   "metadata": {},
   "outputs": [],
   "source": [
    "import os\n",
    "import re\n",
    "import json\n",
    "import datetime"
   ]
  },
  {
   "cell_type": "markdown",
   "id": "9bfdc369",
   "metadata": {},
   "source": [
    "## Load Localization Files\n",
    "\n",
    "Read the contents of app_localizations_en.dart and app_localizations.dart into memory."
   ]
  },
  {
   "cell_type": "code",
   "execution_count": null,
   "id": "3f9f3eec",
   "metadata": {},
   "outputs": [],
   "source": [
    "# Define the paths to the localization files\n",
    "# You may need to modify these paths based on your project structure\n",
    "project_dir = r\"c:\\Users\\wailik\\Documents\\Code\\Flutter\\demo\\demo\"\n",
    "en_file_path = os.path.join(project_dir, \"lib\", \"l10n\", \"app_localizations_en.dart\")\n",
    "base_file_path = os.path.join(project_dir, \"lib\", \"l10n\", \"app_localizations.dart\")\n",
    "\n",
    "# Function to read file content\n",
    "def read_file(file_path):\n",
    "    try:\n",
    "        with open(file_path, 'r', encoding='utf-8') as file:\n",
    "            return file.read()\n",
    "    except FileNotFoundError:\n",
    "        print(f\"Error: File not found - {file_path}\")\n",
    "        return None\n",
    "    except Exception as e:\n",
    "        print(f\"Error reading file {file_path}: {str(e)}\")\n",
    "        return None\n",
    "\n",
    "# Read the files\n",
    "en_file_content = read_file(en_file_path)\n",
    "base_file_content = read_file(base_file_path)\n",
    "\n",
    "if en_file_content and base_file_content:\n",
    "    print(\"Files loaded successfully\")\n",
    "    # Display the first few lines of each file\n",
    "    print(\"\\nFirst few lines of app_localizations_en.dart:\")\n",
    "    print(\"\\n\".join(en_file_content.split(\"\\n\")[:10]))\n",
    "    print(\"\\nFirst few lines of app_localizations.dart:\")\n",
    "    print(\"\\n\".join(base_file_content.split(\"\\n\")[:10]))\n",
    "else:\n",
    "    print(\"Failed to load one or both files\")"
   ]
  },
  {
   "cell_type": "markdown",
   "id": "53848a6b",
   "metadata": {},
   "source": [
    "## Parse Variables in `app_localizations_en.dart`\n",
    "\n",
    "Extract all variable names from app_localizations_en.dart using regular expressions."
   ]
  },
  {
   "cell_type": "code",
   "execution_count": null,
   "id": "ae9d9de2",
   "metadata": {},
   "outputs": [],
   "source": [
    "def extract_variables(content):\n",
    "    \"\"\"Extract variable definitions from localization files.\"\"\"\n",
    "    if not content:\n",
    "        return []\n",
    "    \n",
    "    # Pattern to match variable declarations in a localization class\n",
    "    # This pattern looks for lines like: String get variableName => 'value';\n",
    "    pattern = r'String\\s+get\\s+(\\w+)\\s*=>'\n",
    "    \n",
    "    # Find all matches\n",
    "    variables = re.findall(pattern, content)\n",
    "    \n",
    "    return variables\n",
    "\n",
    "# Extract variables from the English localization file\n",
    "en_variables = extract_variables(en_file_content)\n",
    "\n",
    "print(f\"Found {len(en_variables)} variables in app_localizations_en.dart\")\n",
    "print(\"First 10 variables:\")\n",
    "for var in en_variables[:10]:\n",
    "    print(f\"- {var}\")"
   ]
  },
  {
   "cell_type": "markdown",
   "id": "db9f6dde",
   "metadata": {},
   "source": [
    "## Compare with `app_localizations.dart`\n",
    "\n",
    "Identify variables present in app_localizations_en.dart but missing in app_localizations.dart."
   ]
  },
  {
   "cell_type": "code",
   "execution_count": null,
   "id": "a8cfc242",
   "metadata": {},
   "outputs": [],
   "source": [
    "# Extract variables from the base localization file\n",
    "base_variables = extract_variables(base_file_content)\n",
    "\n",
    "print(f\"Found {len(base_variables)} variables in app_localizations.dart\")\n",
    "\n",
    "# Find variables that are in the English file but missing in the base file\n",
    "missing_variables = [var for var in en_variables if var not in base_variables]\n",
    "\n",
    "print(f\"\\nFound {len(missing_variables)} variables missing in app_localizations.dart:\")\n",
    "for var in missing_variables:\n",
    "    print(f\"- {var}\")"
   ]
  },
  {
   "cell_type": "markdown",
   "id": "6a8f47ac",
   "metadata": {},
   "source": [
    "## Synchronize Missing Variables\n",
    "\n",
    "Add missing variables from app_localizations_en.dart to app_localizations.dart and save the updated file."
   ]
  },
  {
   "cell_type": "code",
   "execution_count": null,
   "id": "886df276",
   "metadata": {},
   "outputs": [],
   "source": [
    "def extract_variable_definitions(content, variable_names):\n",
    "    \"\"\"Extract complete variable definitions for specified variable names.\"\"\"\n",
    "    if not content or not variable_names:\n",
    "        return {}\n",
    "    \n",
    "    variable_definitions = {}\n",
    "    \n",
    "    for var_name in variable_names:\n",
    "        # Pattern to match the complete variable definition\n",
    "        # This looks for: String get varName => 'value';\n",
    "        pattern = rf'String\\s+get\\s+{var_name}\\s*=>\\s*[^;]+;'\n",
    "        match = re.search(pattern, content)\n",
    "        \n",
    "        if match:\n",
    "            variable_definitions[var_name] = match.group(0)\n",
    "    \n",
    "    return variable_definitions\n",
    "\n",
    "def add_variables_to_file(file_content, variable_definitions):\n",
    "    \"\"\"Add missing variable definitions to the file content.\"\"\"\n",
    "    if not file_content or not variable_definitions:\n",
    "        return file_content\n",
    "    \n",
    "    # Find the position where the class definition ends\n",
    "    # Look for the last closing brace\n",
    "    last_brace_pos = file_content.rstrip().rfind('}')\n",
    "    \n",
    "    if last_brace_pos == -1:\n",
    "        print(\"Could not find the class closing brace in the file.\")\n",
    "        return file_content\n",
    "    \n",
    "    # Insert the new variable definitions before the last closing brace\n",
    "    updated_content = (\n",
    "        file_content[:last_brace_pos] + \n",
    "        \"\\n  // Added automatically by synchronization script on \" + \n",
    "        datetime.datetime.now().strftime(\"%Y-%m-%d %H:%M:%S\") + \"\\n\" +\n",
    "        \"\".join([f\"  {definition}\\n\" for definition in variable_definitions.values()]) +\n",
    "        file_content[last_brace_pos:]\n",
    "    )\n",
    "    \n",
    "    return updated_content\n",
    "\n",
    "# Only proceed if there are missing variables\n",
    "if missing_variables:\n",
    "    # Extract the complete variable definitions from the English file\n",
    "    missing_var_definitions = extract_variable_definitions(en_file_content, missing_variables)\n",
    "    \n",
    "    # Add these definitions to the base file\n",
    "    updated_base_content = add_variables_to_file(base_file_content, missing_var_definitions)\n",
    "    \n",
    "    # Create a backup of the original file\n",
    "    backup_file_path = base_file_path + \".bak\"\n",
    "    try:\n",
    "        with open(backup_file_path, 'w', encoding='utf-8') as file:\n",
    "            file.write(base_file_content)\n",
    "        print(f\"Created backup at {backup_file_path}\")\n",
    "    except Exception as e:\n",
    "        print(f\"Error creating backup: {str(e)}\")\n",
    "    \n",
    "    # Save the updated content to the base file\n",
    "    try:\n",
    "        with open(base_file_path, 'w', encoding='utf-8') as file:\n",
    "            file.write(updated_base_content)\n",
    "        print(f\"Successfully updated {base_file_path} with {len(missing_variables)} new variables\")\n",
    "    except Exception as e:\n",
    "        print(f\"Error saving updated file: {str(e)}\")\n",
    "else:\n",
    "    print(\"No missing variables to add.\")"
   ]
  },
  {
   "cell_type": "markdown",
   "id": "f7bbf68b",
   "metadata": {},
   "source": [
    "## Verification\n",
    "\n",
    "Verify that the synchronization was successful by checking that all variables from the English file are now present in the base file."
   ]
  },
  {
   "cell_type": "code",
   "execution_count": null,
   "id": "cfabffc6",
   "metadata": {},
   "outputs": [],
   "source": [
    "# If we made changes, reload the base file to verify\n",
    "if missing_variables:\n",
    "    updated_base_content = read_file(base_file_path)\n",
    "    updated_base_variables = extract_variables(updated_base_content)\n",
    "    \n",
    "    # Check if all English variables are now in the base file\n",
    "    still_missing = [var for var in en_variables if var not in updated_base_variables]\n",
    "    \n",
    "    if still_missing:\n",
    "        print(f\"Warning: {len(still_missing)} variables are still missing after synchronization:\")\n",
    "        for var in still_missing:\n",
    "            print(f\"- {var}\")\n",
    "    else:\n",
    "        print(\"Verification successful! All variables from app_localizations_en.dart are now in app_localizations.dart\")\n",
    "        \n",
    "    # Print stats\n",
    "    print(f\"\\nStats after synchronization:\")\n",
    "    print(f\"- Variables in app_localizations_en.dart: {len(en_variables)}\")\n",
    "    print(f\"- Variables in app_localizations.dart: {len(updated_base_variables)}\")"
   ]
  }
 ],
 "metadata": {
  "language_info": {
   "name": "python"
  }
 },
 "nbformat": 4,
 "nbformat_minor": 5
}
